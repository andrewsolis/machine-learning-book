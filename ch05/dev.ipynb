{
 "cells": [
  {
   "cell_type": "code",
   "execution_count": 1,
   "metadata": {},
   "outputs": [],
   "source": [
    "# Load Wine dataset\n",
    "import pandas as pd\n",
    "df_wine = pd.read_csv('https://archive.ics.uci.edu/ml/machine-learning-databases/wine/wine.data', header=None)"
   ]
  },
  {
   "cell_type": "code",
   "execution_count": 2,
   "metadata": {},
   "outputs": [],
   "source": [
    "# break data into 70/30 split and standardize to unit variance\n",
    "from sklearn.model_selection import train_test_split\n",
    "\n",
    "X, y = df_wine.iloc[:, 1:].values, df_wine.iloc[:, 0].values\n",
    "X_train, X_test, y_train, y_test = train_test_split(X, y, test_size=0.3, stratify=y, random_state=0)\n",
    "\n",
    "# standardize features\n",
    "from sklearn.preprocessing import StandardScaler\n",
    "sc = StandardScaler()\n",
    "X_train_std = sc.fit_transform(X_train)\n",
    "X_test_std = sc.transform(X_test)"
   ]
  },
  {
   "cell_type": "code",
   "execution_count": 3,
   "metadata": {},
   "outputs": [
    {
     "name": "stdout",
     "output_type": "stream",
     "text": [
      "\n",
      "EigenValues \n",
      " [4.84274532 2.41602459 1.54845825 0.96120438 0.84166161 0.6620634\n",
      " 0.51828472 0.34650377 0.3131368  0.10754642 0.21357215 0.15362835\n",
      " 0.1808613 ]\n"
     ]
    }
   ],
   "source": [
    "# construct covariance matrix\n",
    "import numpy as np\n",
    "cov_mat = np.cov(X_train_std.T)\n",
    "\n",
    "# obtain eigenvalues and eigenvectors\n",
    "eigen_vals, eigen_vecs = np.linalg.eig(cov_mat)\n",
    "print('\\nEigenValues \\n', eigen_vals)"
   ]
  },
  {
   "cell_type": "code",
   "execution_count": 4,
   "metadata": {},
   "outputs": [
    {
     "data": {
      "image/png": "[encoded data removed]",
      "text/plain": [
       "<Figure size 640x480 with 1 Axes>"
      ]
     },
     "metadata": {},
     "output_type": "display_data"
    }
   ],
   "source": [
    "# plot variance explained ratios of eigenvalues (fraction of eigenvalue and total sum of eigenvalues)\n",
    "tot = sum(eigen_vals)\n",
    "var_exp = [(i / tot) for i in sorted(eigen_vals, reverse=True)]\n",
    "cum_var_exp = np.cumsum(var_exp)\n",
    "\n",
    "import matplotlib.pyplot as plt\n",
    "plt.bar(range(1, 14), var_exp, align='center', label='Individual explained variance')\n",
    "plt.step(range(1, 14), cum_var_exp, where='mid', label='Cumulative explained variance')\n",
    "plt.ylabel('Explained variance ratio')\n",
    "plt.xlabel('Principal component index')\n",
    "plt.legend(loc='best')\n",
    "plt.tight_layout()\n",
    "plt.show()"
   ]
  },
  {
   "cell_type": "code",
   "execution_count": 5,
   "metadata": {},
   "outputs": [],
   "source": [
    "# 1. sort eigenpairs is descending order of eigen values\n",
    "# 2. construction projection matrix from selected eigenvectors\n",
    "# 3. use projection matrix to transform data onto lower-dimensional subspace\n",
    "\n",
    "# Make a list of (eigenvalue, eigenvector) tuples\n",
    "eigen_pairs = [(np.abs(eigen_vals[i]), eigen_vecs[:, i]) for i in range(len(eigen_vals))]\n",
    "\n",
    "# Sort (eigenvalue, eigenvector) tuples from high to low\n",
    "eigen_pairs.sort(key=lambda k: k[0], reverse=True)"
   ]
  },
  {
   "cell_type": "code",
   "execution_count": 6,
   "metadata": {},
   "outputs": [
    {
     "name": "stdout",
     "output_type": "stream",
     "text": [
      "Matrix W:\n",
      " [[-0.13724218  0.50303478]\n",
      " [ 0.24724326  0.16487119]\n",
      " [-0.02545159  0.24456476]\n",
      " [ 0.20694508 -0.11352904]\n",
      " [-0.15436582  0.28974518]\n",
      " [-0.39376952  0.05080104]\n",
      " [-0.41735106 -0.02287338]\n",
      " [ 0.30572896  0.09048885]\n",
      " [-0.30668347  0.00835233]\n",
      " [ 0.07554066  0.54977581]\n",
      " [-0.32613263 -0.20716433]\n",
      " [-0.36861022 -0.24902536]\n",
      " [-0.29669651  0.38022942]]\n"
     ]
    }
   ],
   "source": [
    "# select top two eigenvectors\n",
    "w = np.hstack((eigen_pairs[0][1][:, np.newaxis], eigen_pairs[1][1][:, np.newaxis]))\n",
    "print('Matrix W:\\n', w)"
   ]
  },
  {
   "cell_type": "code",
   "execution_count": 7,
   "metadata": {},
   "outputs": [
    {
     "data": {
      "text/plain": [
       "array([2.38299011, 0.45458499])"
      ]
     },
     "execution_count": 7,
     "metadata": {},
     "output_type": "execute_result"
    }
   ],
   "source": [
    "# project matrix to new subspace\n",
    "X_train_std[0].dot(w)"
   ]
  },
  {
   "cell_type": "code",
   "execution_count": 11,
   "metadata": {},
   "outputs": [
    {
     "data": {
      "text/plain": [
       "array([[ 2.38299011,  0.45458499],\n",
       "       [-1.96578183,  1.65376939],\n",
       "       [-2.53907598,  1.02909066],\n",
       "       [-1.43010776,  0.6024011 ],\n",
       "       [ 3.14147227,  0.66214979],\n",
       "       [ 0.50253552, -2.08907131],\n",
       "       [ 0.04867722, -2.27536044],\n",
       "       [ 2.47888989, -0.08603318],\n",
       "       [ 2.01900259, -1.3538719 ],\n",
       "       [ 0.75156583, -2.55367947],\n",
       "       [ 0.72268915, -1.18404391],\n",
       "       [-3.00366211,  0.94626934],\n",
       "       [ 2.57518878, -1.0697549 ],\n",
       "       [ 3.73151104,  1.01968876],\n",
       "       [-1.12276518,  0.13877   ],\n",
       "       [ 2.85996853,  2.28819559],\n",
       "       [-0.74717125, -3.21746061],\n",
       "       [-1.58427878,  0.16048055],\n",
       "       [ 3.38887101,  2.11550689],\n",
       "       [ 3.15405473,  0.54233966],\n",
       "       [-1.28036506, -1.72926871],\n",
       "       [-1.71438911,  0.71745249],\n",
       "       [-1.55040291, -1.7580591 ],\n",
       "       [ 1.10984489, -1.20480693],\n",
       "       [-0.69108418, -1.71385374],\n",
       "       [-2.086036  , -1.68453671],\n",
       "       [ 2.90393456,  1.95258805],\n",
       "       [-2.07635784,  1.47183304],\n",
       "       [-1.74756185, -1.25842546],\n",
       "       [ 2.59424456, -0.1056037 ],\n",
       "       [-2.50372355,  0.70412212],\n",
       "       [-2.19448402,  2.18657552],\n",
       "       [ 3.91634534,  0.16136475],\n",
       "       [-1.11739618,  0.51921086],\n",
       "       [-0.89996804, -2.04759575],\n",
       "       [-1.71469178,  0.61392169],\n",
       "       [-2.48581303,  0.76839561],\n",
       "       [-0.76080562, -1.67615627],\n",
       "       [ 2.9265371 ,  0.18854741],\n",
       "       [ 2.94423716,  1.34812388],\n",
       "       [-2.38993219,  1.0848074 ],\n",
       "       [ 2.63885049,  0.75274937],\n",
       "       [ 2.51009031,  2.25237953],\n",
       "       [ 3.65248086,  1.74839925],\n",
       "       [-2.65169609,  1.01997476],\n",
       "       [ 0.52544559, -2.13528249],\n",
       "       [ 2.70197573,  0.56476307],\n",
       "       [ 3.18414708,  2.58094695],\n",
       "       [ 1.12517041, -1.85054449],\n",
       "       [ 2.92366519,  0.41699915],\n",
       "       [-1.96122314, -1.28613661],\n",
       "       [ 0.54473673, -1.07897226],\n",
       "       [-0.77030308, -1.93386815],\n",
       "       [-1.16670455,  0.00489815],\n",
       "       [-1.36475309, -2.13572269],\n",
       "       [ 0.43563732, -2.56929607],\n",
       "       [ 2.96191745,  1.91091009],\n",
       "       [ 2.83609557,  0.65386032],\n",
       "       [ 1.90402089, -0.35296542],\n",
       "       [-2.4858391 , -0.21308835],\n",
       "       [-2.16575568,  1.1468486 ],\n",
       "       [ 0.00669776, -0.94337624],\n",
       "       [ 1.06560181,  3.31221025],\n",
       "       [ 2.13117911,  1.90551304],\n",
       "       [ 1.53543483, -1.50854979],\n",
       "       [-2.66783112,  1.75933599],\n",
       "       [ 0.57279998, -2.7511383 ],\n",
       "       [-0.70710916, -2.43798549],\n",
       "       [-0.99606577, -1.4772411 ],\n",
       "       [-2.67324153,  1.35779609],\n",
       "       [-2.36367378,  1.66537927],\n",
       "       [-0.39171875,  0.13747499],\n",
       "       [-2.98908845,  2.16983165],\n",
       "       [-1.91822539,  1.60141809],\n",
       "       [ 2.3114458 ,  0.207123  ],\n",
       "       [-1.06050503,  0.6004608 ],\n",
       "       [-2.74858609, -0.29016054],\n",
       "       [ 2.26650077,  2.14491758],\n",
       "       [-1.15517469, -0.50262909],\n",
       "       [ 0.16602503, -2.26850051],\n",
       "       [ 1.35589389,  0.33353007],\n",
       "       [-3.31185057,  1.39240115],\n",
       "       [-0.33245686, -2.15639865],\n",
       "       [-2.23205085,  0.52868143],\n",
       "       [ 0.18583758, -1.44446967],\n",
       "       [ 0.84560856,  0.17151684],\n",
       "       [ 2.69500472,  2.74522492],\n",
       "       [ 0.44645674, -0.62393943],\n",
       "       [-1.88961007, -0.04400723],\n",
       "       [-3.08131761,  1.59724429],\n",
       "       [-3.45716348,  1.21428442],\n",
       "       [ 3.87665629,  0.46446004],\n",
       "       [ 1.575516  , -1.82299839],\n",
       "       [-3.43344371,  1.6116814 ],\n",
       "       [-4.20642597,  2.20145366],\n",
       "       [-0.14042971, -2.36871639],\n",
       "       [ 1.82731521, -1.39485103],\n",
       "       [ 2.20564744,  1.28462066],\n",
       "       [ 1.64999054,  2.33211134],\n",
       "       [-1.4611033 , -0.46480324],\n",
       "       [-0.60047516,  0.00920072],\n",
       "       [-3.08276231,  0.28287148],\n",
       "       [ 0.45035749, -2.20263755],\n",
       "       [ 0.90806897, -2.0881686 ],\n",
       "       [ 3.24973637, -0.18273485],\n",
       "       [-3.07882055,  0.69622621],\n",
       "       [ 2.54277306,  1.88571652],\n",
       "       [-2.84838157,  0.63274325],\n",
       "       [-0.88997271, -0.67927226],\n",
       "       [ 0.32368249, -2.07006175],\n",
       "       [ 0.32007527, -2.88708519],\n",
       "       [ 0.44889188, -2.14872532],\n",
       "       [-2.46582558,  1.0745577 ],\n",
       "       [ 2.81678113,  0.56344444],\n",
       "       [-2.16983025,  0.16644199],\n",
       "       [-2.66728229,  1.38137702],\n",
       "       [-3.53223924,  2.57906029],\n",
       "       [-1.96637688,  1.18319185],\n",
       "       [ 1.68741216, -1.35075321],\n",
       "       [ 0.43521077, -2.40355817],\n",
       "       [ 2.59045115,  1.63852921],\n",
       "       [ 4.35308397,  0.66536041],\n",
       "       [-1.84315373, -1.50688415],\n",
       "       [-0.40860955, -1.29720607]])"
      ]
     },
     "execution_count": 11,
     "metadata": {},
     "output_type": "execute_result"
    }
   ],
   "source": [
    "# transform entire training dataset using 2 PCA\n",
    "X_train_pca = X_train_std.dot(w)\n",
    "X_train_pca"
   ]
  },
  {
   "cell_type": "code",
   "execution_count": 10,
   "metadata": {},
   "outputs": [
    {
     "data": {
      "image/png": "[encoded data removed]",
      "text/plain": [
       "<Figure size 640x480 with 1 Axes>"
      ]
     },
     "metadata": {},
     "output_type": "display_data"
    }
   ],
   "source": [
    "# visualize training dataset (now 124x2) on new subspace\n",
    "colors = ['r', 'b', 'g']\n",
    "markers = ['o', 's', '^']\n",
    "\n",
    "for l, c, m in zip(np.unique(y_train), colors, markers):\n",
    "    plt.scatter(X_train_pca[y_train==l, 0],\n",
    "                X_train_pca[y_train==l, 1],\n",
    "                c=c, label=f'class {l}', marker=m)\n",
    "    \n",
    "plt.xlabel('PC 1')\n",
    "plt.ylabel('PC 2')\n",
    "plt.legend(loc='upper left')\n",
    "plt.tight_layout()\n",
    "plt.show()"
   ]
  },
  {
   "cell_type": "code",
   "execution_count": null,
   "metadata": {},
   "outputs": [],
   "source": []
  }
 ],
 "metadata": {
  "kernelspec": {
   "display_name": "venv",
   "language": "python",
   "name": "python3"
  },
  "language_info": {
   "codemirror_mode": {
    "name": "ipython",
    "version": 3
   },
   "file_extension": ".py",
   "mimetype": "text/x-python",
   "name": "python",
   "nbconvert_exporter": "python",
   "pygments_lexer": "ipython3",
   "version": "3.11.5"
  }
 },
 "nbformat": 4,
 "nbformat_minor": 2
}
